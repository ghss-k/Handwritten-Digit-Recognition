{
 "cells": [
  {
   "cell_type": "markdown",
   "metadata": {
    "id": "ErpH5IyXQ5OW"
   },
   "source": [
    "APPLICATION MLP IN DIGITS RECOGNATION"
   ]
  },
  {
   "cell_type": "markdown",
   "metadata": {},
   "source": [
    "Importation des bibliothèques nécessaires"
   ]
  },
  {
   "cell_type": "code",
   "execution_count": 1,
   "metadata": {
    "id": "kXmCJLomwAkc"
   },
   "outputs": [],
   "source": [
    "import keras\n",
    "from keras.datasets import mnist\n",
    "from keras.models import Sequential\n",
    "from keras.layers import Dense, Dropout\n",
    "from tensorflow.keras.optimizers import Adam\n",
    "from tensorflow.keras.utils import to_categorical\n",
    "import matplotlib.pyplot as plt\n",
    "import numpy as np\n"
   ]
  },
  {
   "cell_type": "markdown",
   "metadata": {
    "id": "Cfu71yeayiQb"
   },
   "source": [
    "chargement de la base de données MNIST"
   ]
  },
  {
   "cell_type": "markdown",
   "metadata": {
    "id": "2xCNya-lmmhJ"
   },
   "source": [
    "diviser les données à deux parties training data & testing data "
   ]
  },
  {
   "cell_type": "code",
   "execution_count": 18,
   "metadata": {
    "colab": {
     "base_uri": "https://localhost:8080/"
    },
    "id": "u-rq6b3uwcwV",
    "outputId": "8e1b77f4-e602-49de-dbfa-600e1f01a9d2"
   },
   "outputs": [],
   "source": [
    "(x_train, y_train), (x_test, y_test) = mnist.load_data()"
   ]
  },
  {
   "cell_type": "code",
   "execution_count": 83,
   "metadata": {
    "colab": {
     "base_uri": "https://localhost:8080/",
     "height": 274
    },
    "id": "hab3eg6vxEca",
    "outputId": "12b4e904-4ef1-45f0-e165-5a09826f2295"
   },
   "outputs": [
    {
     "name": "stdout",
     "output_type": "stream",
     "text": [
      "2 \t 1 \n",
      "\n",
      "\n"
     ]
    },
    {
     "data": {
      "text/plain": [
       "<matplotlib.image.AxesImage at 0x2e5b29f1fa0>"
      ]
     },
     "execution_count": 83,
     "metadata": {},
     "output_type": "execute_result"
    },
    {
     "data": {
      "image/png": "[encoded data removed]",
      "text/plain": [
       "<Figure size 432x288 with 2 Axes>"
      ]
     },
     "metadata": {
      "needs_background": "light"
     },
     "output_type": "display_data"
    }
   ],
   "source": [
    "randindices=np.random.randint(x_train.shape[0],size=2)\n",
    "print(y_train[randindices[0]],'\\t',y_train[randindices[1]],'\\n\\n')\n",
    "plt.figure()\n",
    "plt.subplot(1,2,1)\n",
    "plt.imshow(x_train[randindices[0],:,:],cmap='gray')\n",
    "plt.subplot(1,2,2)\n",
    "plt.imshow(x_train[randindices[1],:,:],cmap='gray')"
   ]
  },
  {
   "cell_type": "markdown",
   "metadata": {
    "id": "ZhYbnSwypCW1"
   },
   "source": [
    "Data préprocessing"
   ]
  },
  {
   "cell_type": "markdown",
   "metadata": {
    "id": "bi45ZNwyx-7Z"
   },
   "source": [
    "Aplatir les images et normalisation"
   ]
  },
  {
   "cell_type": "code",
   "execution_count": 19,
   "metadata": {
    "id": "Rre-HlwdxDpE"
   },
   "outputs": [],
   "source": [
    "x_train = x_train.reshape(60000,784)\n",
    "x_test = x_test.reshape(10000,784)\n",
    "x_train = x_train.astype('float32')\n",
    "x_test = x_test.astype('float32')\n",
    "x_train /= 255\n",
    "x_test /= 255"
   ]
  },
  {
   "cell_type": "code",
   "execution_count": 27,
   "metadata": {
    "id": "SVW-sLCQywE6"
   },
   "outputs": [],
   "source": [
    "nbr_classes = 10\n",
    "y_train =to_categorical(y_train, nbr_classes)\n",
    "y_test =to_categorical(y_test, nbr_classes)"
   ]
  },
  {
   "cell_type": "markdown",
   "metadata": {
    "id": "DoDX9iDgsVjB"
   },
   "source": [
    "# Entrainement de notre modèle MLP"
   ]
  },
  {
   "cell_type": "markdown",
   "metadata": {
    "id": "Dd8yh8mGuft0"
   },
   "source": [
    "Conception notre MLP"
   ]
  },
  {
   "cell_type": "code",
   "execution_count": 28,
   "metadata": {
    "id": "MUEc96BBy6t-"
   },
   "outputs": [],
   "source": [
    "model = Sequential()\n",
    "model.add(Dense(250, activation='relu', input_shape=(784,)))\n",
    "model.add(Dense(250, activation='relu'))\n",
    "model.add(Dense(250, activation='relu'))\n",
    "model.add(Dense(nbr_classes, activation='softmax'))"
   ]
  },
  {
   "cell_type": "code",
   "execution_count": 29,
   "metadata": {
    "colab": {
     "base_uri": "https://localhost:8080/"
    },
    "id": "bFM5n5clEbb0",
    "outputId": "a9927989-c1ce-4ade-b47b-3bd66860087b"
   },
   "outputs": [
    {
     "name": "stdout",
     "output_type": "stream",
     "text": [
      "Model: \"sequential_1\"\n",
      "_________________________________________________________________\n",
      " Layer (type)                Output Shape              Param #   \n",
      "=================================================================\n",
      " dense_4 (Dense)             (None, 250)               196250    \n",
      "                                                                 \n",
      " dense_5 (Dense)             (None, 250)               62750     \n",
      "                                                                 \n",
      " dense_6 (Dense)             (None, 250)               62750     \n",
      "                                                                 \n",
      " dense_7 (Dense)             (None, 10)                2510      \n",
      "                                                                 \n",
      "=================================================================\n",
      "Total params: 324,260\n",
      "Trainable params: 324,260\n",
      "Non-trainable params: 0\n",
      "_________________________________________________________________\n"
     ]
    }
   ],
   "source": [
    "model.summary()"
   ]
  },
  {
   "cell_type": "code",
   "execution_count": 30,
   "metadata": {
    "colab": {
     "base_uri": "https://localhost:8080/"
    },
    "id": "MAMaMwbMzFYa",
    "outputId": "a8284388-0e53-4ebd-ee2b-b7ab3569d298"
   },
   "outputs": [],
   "source": [
    "model.compile(loss='categorical_crossentropy',\n",
    "              optimizer=Adam(lr=1e-3),\n",
    "              metrics=['accuracy'])"
   ]
  },
  {
   "cell_type": "code",
   "execution_count": 31,
   "metadata": {
    "id": "5y13FO-wwdc8"
   },
   "outputs": [],
   "source": [
    "batch_size = 120\n",
    "epochs = 12"
   ]
  },
  {
   "cell_type": "code",
   "execution_count": 32,
   "metadata": {
    "colab": {
     "base_uri": "https://localhost:8080/"
    },
    "id": "nvYsXcE1zIgx",
    "outputId": "72ac6ce3-9fb0-49c9-ba89-318dd24df671"
   },
   "outputs": [
    {
     "name": "stdout",
     "output_type": "stream",
     "text": [
      "Epoch 1/12\n",
      "500/500 [==============================] - 5s 8ms/step - loss: 0.2476 - accuracy: 0.9262 - val_loss: 0.1395 - val_accuracy: 0.9575\n",
      "Epoch 2/12\n",
      "500/500 [==============================] - 4s 8ms/step - loss: 0.0909 - accuracy: 0.9726 - val_loss: 0.0992 - val_accuracy: 0.9700\n",
      "Epoch 3/12\n",
      "500/500 [==============================] - 4s 8ms/step - loss: 0.0602 - accuracy: 0.9814 - val_loss: 0.0761 - val_accuracy: 0.9766\n",
      "Epoch 4/12\n",
      "500/500 [==============================] - 4s 8ms/step - loss: 0.0438 - accuracy: 0.9857 - val_loss: 0.0698 - val_accuracy: 0.9793\n",
      "Epoch 5/12\n",
      "500/500 [==============================] - 4s 8ms/step - loss: 0.0362 - accuracy: 0.9885 - val_loss: 0.0751 - val_accuracy: 0.9776\n",
      "Epoch 6/12\n",
      "500/500 [==============================] - 4s 8ms/step - loss: 0.0271 - accuracy: 0.9908 - val_loss: 0.0919 - val_accuracy: 0.9736\n",
      "Epoch 7/12\n",
      "500/500 [==============================] - 4s 8ms/step - loss: 0.0240 - accuracy: 0.9921 - val_loss: 0.0780 - val_accuracy: 0.9798\n",
      "Epoch 8/12\n",
      "500/500 [==============================] - 4s 8ms/step - loss: 0.0205 - accuracy: 0.9929 - val_loss: 0.0904 - val_accuracy: 0.9780\n",
      "Epoch 9/12\n",
      "500/500 [==============================] - 4s 8ms/step - loss: 0.0229 - accuracy: 0.9921 - val_loss: 0.0835 - val_accuracy: 0.9781\n",
      "Epoch 10/12\n",
      "500/500 [==============================] - 4s 8ms/step - loss: 0.0156 - accuracy: 0.9947 - val_loss: 0.0908 - val_accuracy: 0.9793\n",
      "Epoch 11/12\n",
      "500/500 [==============================] - 4s 7ms/step - loss: 0.0132 - accuracy: 0.9956 - val_loss: 0.0887 - val_accuracy: 0.9813\n",
      "Epoch 12/12\n",
      "500/500 [==============================] - 4s 8ms/step - loss: 0.0142 - accuracy: 0.9953 - val_loss: 0.0916 - val_accuracy: 0.9782\n"
     ]
    }
   ],
   "source": [
    "result = model.fit(x_train, y_train,\n",
    "                    batch_size=batch_size,\n",
    "                    epochs=epochs,\n",
    "                    verbose=1,\n",
    "                    validation_data=(x_test, y_test))"
   ]
  },
  {
   "cell_type": "code",
   "execution_count": 33,
   "metadata": {
    "id": "2JQgv788zlp1"
   },
   "outputs": [
    {
     "name": "stdout",
     "output_type": "stream",
     "text": [
      "Test accuracy: 0.9782000184059143\n"
     ]
    }
   ],
   "source": [
    "score = model.evaluate(x_test, y_test, verbose=0)\n",
    "print('Test accuracy:', score[1])"
   ]
  },
  {
   "cell_type": "code",
   "execution_count": 34,
   "metadata": {
    "colab": {
     "base_uri": "https://localhost:8080/",
     "height": 167
    },
    "id": "0mKIIBBezwba",
    "outputId": "c05092bb-53aa-4813-ad98-ec713c9eeee4"
   },
   "outputs": [
    {
     "data": {
      "text/plain": [
       "<matplotlib.image.AxesImage at 0x2e5b2551c10>"
      ]
     },
     "execution_count": 34,
     "metadata": {},
     "output_type": "execute_result"
    },
    {
     "data": {
      "image/png": "[encoded data removed]",
      "text/plain": [
       "<Figure size 432x288 with 3 Axes>"
      ]
     },
     "metadata": {
      "needs_background": "light"
     },
     "output_type": "display_data"
    }
   ],
   "source": [
    "randindices=np.random.randint(x_test.shape[0],size=3)\n",
    "plt.figure()\n",
    "plt.subplot(1,3,1)\n",
    "plt.imshow(np.reshape(x_test[randindices[0],:],(28,28)),cmap='gray')\n",
    "plt.subplot(1,3,2)\n",
    "plt.imshow(np.reshape(x_test[randindices[1],:],(28,28)),cmap='gray')\n",
    "plt.subplot(1,3,3)\n",
    "plt.imshow(np.reshape(x_test[randindices[2],:],(28,28)),cmap='gray')"
   ]
  },
  {
   "cell_type": "code",
   "execution_count": 50,
   "metadata": {
    "colab": {
     "base_uri": "https://localhost:8080/"
    },
    "id": "sf3tl7fpzwfs",
    "outputId": "1c3e688a-b16b-4c1e-829e-9c3d4eaf7cb0"
   },
   "outputs": [
    {
     "name": "stdout",
     "output_type": "stream",
     "text": [
      "Le réseau reconnaît le chiffre 2 avec une probabilité de 100.0%.\n",
      "Le réseau reconnaît le chiffre 0 avec une probabilité de 98.12598824501038%.\n",
      "Le réseau reconnaît le chiffre 9 avec une probabilité de 99.75354671478271%.\n"
     ]
    }
   ],
   "source": [
    "predictions=model.predict(x_test)\n",
    "print(\"Le réseau reconnaît le chiffre \"+ str(np.argmax(predictions[randindices[0],:])) + ' avec une probabilité de ' + str(np.max(predictions[randindices[0],:]) * 100) + '%.')\n",
    "print(\"Le réseau reconnaît le chiffre \"+ str(np.argmax(predictions[randindices[1],:])) + ' avec une probabilité de ' + str(np.max(predictions[randindices[1],:]) * 100) + '%.')\n",
    "print(\"Le réseau reconnaît le chiffre \"+ str(np.argmax(predictions[randindices[2],:])) + ' avec une probabilité de ' + str(np.max(predictions[randindices[2],:]) * 100) + '%.')"
   ]
  },
  {
   "cell_type": "markdown",
   "metadata": {},
   "source": [
    "********************************************************************************************************************************************************************************************************************************************************"
   ]
  },
  {
   "cell_type": "markdown",
   "metadata": {
    "id": "7LS-cOYdVsQx"
   },
   "source": [
    "## Interface graphique (deploy modele)"
   ]
  },
  {
   "cell_type": "code",
   "execution_count": 101,
   "metadata": {},
   "outputs": [],
   "source": [
    "###################################################\n",
    "import numpy as np\n",
    "import tkinter as tk\n",
    "from tkinter import *\n",
    "from keras.models import load_model \n",
    "from PIL import ImageTk,Image,ImageDraw,ImageOps\n",
    "import cv2\n",
    "import random as rand"
   ]
  },
  {
   "cell_type": "markdown",
   "metadata": {},
   "source": [
    "Creation d'interface graphique pour écrire manuellement et prédire les chiffres de 0 à 9"
   ]
  },
  {
   "cell_type": "code",
   "execution_count": 107,
   "metadata": {},
   "outputs": [],
   "source": [
    "#create and configure window\n",
    "window=tk.Tk()\n",
    "window.geometry(\"670x500\")\n",
    "window.title('Digit Recognition')\n",
    "window['bg']='lightseagreen'\n",
    "window.iconbitmap('C:\\\\Users\\\\ADMIN\\\\Downloads\\\\head-brains_icon-icons.com_53022.ico')\n",
    "#fix the size of window\n",
    "window.resizable(0,0)\n",
    "\n",
    "#upload mlp model in variable mod\n",
    "mod=load_model('mlp.h5')\n",
    "\n",
    "#functions definition\n",
    "def clear():\n",
    " global img,img_draw\n",
    " canva.delete('all')\n",
    " img=Image.new('RGB',(400,400),(0,0,0))\n",
    " img_draw=ImageDraw.Draw(img)\n",
    " label_result.config(text='')\n",
    " label_proba.config(text='')\n",
    "def paint(event):\n",
    " x1, y1 = (event.x - 7), (event.y -7)\n",
    " x2, y2 = (event.x + 7), (event.y +7)\n",
    " canva.create_oval(x1, y1, x2, y2, fill=\"black\",width=10)\n",
    " img_draw.ellipse((x1, y1, x2, y2), fill='white')\n",
    "\n",
    "#recognize function definition\n",
    "def recognize():\n",
    " #img.show()\n",
    " img_array=np.array(img)\n",
    " img_array=cv2.resize(img_array,(28,28))\n",
    " img_array=cv2.cvtColor(img_array,cv2.COLOR_BGR2GRAY)\n",
    " img_array=img_array/255\n",
    " img_array=img_array.reshape(1,784)\n",
    " resultat=mod.predict(img_array)\n",
    " label_result.config(text=str(np.argmax(resultat)))\n",
    " label_proba.config(text=str(round(np.max(resultat)*100))+'%')\n",
    "#create and configure canva and labels,buttons\n",
    "canva=tk.Canvas(master=window,height=400,width=400,bg = \"white\",cursor=\"pencil\")\n",
    "label1=tk.Label(window,text=\"Predicted Digit\",font=(\"Helvetica\",12),bg='lightseagreen',foreground='white')\n",
    "label2=tk.Label(window,text=\"Confidence\",font=(\"Helvetica\",12),bg='lightseagreen',foreground='white')\n",
    "label_result=tk.Label(window,text=\"\",height=2,width=10,font=(\"Helvetica\",12),bg='orange',foreground='black')\n",
    "label_proba=tk.Label(window,text=\"\",height=2,width=10,font=(\"Helvetica\",12),bg='orange',foreground='black')\n",
    "classify_btn = tk.Button(window,text = \"Recognise\",height=2,width=20,bg='#3ea744',foreground=\"white\",\n",
    "font=('Helvatical bold',10,'bold'),highlightbackground=\"lightseagreen\",command=recognize) \n",
    "button_clear = tk.Button(window, text = \"Clear\",height=2,width=20,bg='#3ea744',foreground=\"white\",\n",
    "font=('Helvatical bold',10,'bold'),highlightbackground=\"lightseagreen\",command=clear)\n",
    "#configure widgets\n",
    "canva.grid(row=0, column=0, pady=2, sticky=W)\n",
    "label1.place(x=420,y=180)\n",
    "label2.place(x=565,y=180)\n",
    "label_result.place(x=428,y=210)\n",
    "label_proba.place(x=560,y=210)\n",
    "button_clear.place(x=230,y=430)\n",
    "classify_btn.place(x=10,y=430)\n",
    "canva.bind( \"<B1-Motion>\", paint )\n",
    "#create image for drawing digit manually\n",
    "img=Image.new('RGB',(400,400),(0,0,0))\n",
    "img_draw=ImageDraw.Draw(img)\n",
    "#make window interactive with user\n",
    "window.mainloop()"
   ]
  },
  {
   "cell_type": "markdown",
   "metadata": {},
   "source": [
    "--------------------------------------------------------------------------------------------------------------------------------------------------------------------------------------------------------------------------------------------------------********************************************************************************************************************************************************************************************************************************************************"
   ]
  },
  {
   "cell_type": "markdown",
   "metadata": {},
   "source": [
    "Inerface graphique pour prédire les chiffres existant dans les données de test"
   ]
  },
  {
   "cell_type": "code",
   "execution_count": 108,
   "metadata": {},
   "outputs": [],
   "source": [
    "#loading mnist data and take primary digit in testing data,resizing image for make it it fit with the canvas size. \n",
    "(x_train, y_train), (x_test, y_test) = mnist.load_data()\n",
    "randindices=np.random.randint(x_test.shape[0],size=10000)\n",
    "imge=(x_test[randindices[0],:,:])\n",
    "img_array=np.array(imge)\n",
    "img_array=cv2.resize(img_array,(400,400))\n",
    "imge=Image.fromarray(img_array)\n",
    "#uploading ml model\n",
    "mod=load_model('mlp.h5')\n",
    "#function definition\n",
    "#upl function for put data test images in canvas\n",
    "def upl():\n",
    " global imge\n",
    " imge = ImageTk.PhotoImage(imge)\n",
    " canva.create_image(0,0,anchor=NW,image=imge)\n",
    "#for prediction\n",
    "def recognize():\n",
    " global img_array\n",
    " img_array=cv2.resize(img_array,(28,28))\n",
    " img_array=img_array/255\n",
    " img_array=img_array.reshape(1,784)\n",
    " resultat=mod.predict(img_array)\n",
    " label_result.config(text=str(np.argmax(resultat)))\n",
    " label_proba.config(text=str(round(np.max(resultat)*100))+'%')\n",
    "#clearing canvas and take another digit from testing data\n",
    "def clear():\n",
    " global imge,img_array\n",
    " canva.delete('all')\n",
    " label_result.config(text='')\n",
    " label_proba.config(text='')\n",
    " imge=(x_test[randindices[rand.randint(1,999)],:,:])\n",
    " img_array=np.array(imge)\n",
    " img_array=cv2.resize(img_array,(400,400))\n",
    " imge=Image.fromarray(img_array)\n",
    "#create window for application   \n",
    "window=tk.Tk()\n",
    "window.geometry(\"670x500\")\n",
    "window.title('Digit Recognition')\n",
    "window['bg']='lightseagreen'\n",
    "window.iconbitmap('C:\\\\Users\\\\ADMIN\\\\Downloads\\\\head-brains_icon-icons.com_53022.ico')\n",
    "#fix the size of window\n",
    "window.resizable(0,0)\n",
    "#create widgets\n",
    "canva=tk.Canvas(master=window,height=400,width=400,bg = \"white\",cursor=\"pencil\")\n",
    "label1=tk.Label(window,text=\"Predicted Digit\",font=(\"Helvetica\",12),bg='lightseagreen',foreground='white')\n",
    "label2=tk.Label(window,text=\"Confidence\",font=(\"Helvetica\",12),bg='lightseagreen',foreground='white')\n",
    "label_result=tk.Label(window,text=\"\",height=2,width=10,font=(\"Helvetica\",12),bg='orange',foreground='black')\n",
    "label_proba=tk.Label(window,text=\"\",height=2,width=10,font=(\"Helvetica\",12),bg='orange',foreground='black')\n",
    "classify_btn = tk.Button(window,text = \"Upload digit\",height=2,width=20,bg='#3ea744',foreground=\"white\",\n",
    "font=('Helvatical bold',10,'bold'),highlightbackground=\"lightseagreen\",command=upl) \n",
    "button_clear = tk.Button(window, text = \"Recognize\",height=2,width=20,bg='#3ea744',foreground=\"white\",\n",
    "font=('Helvatical bold',10,'bold'),highlightbackground=\"lightseagreen\",command=recognize)\n",
    "button_upl=tk.Button(window, text = \"Clear\",height=2,width=20,bg='#3ea744',foreground=\"white\",\n",
    "font=('Helvatical bold',10,'bold'),highlightbackground=\"lightseagreen\",command=clear)\n",
    "#configure widgets\n",
    "canva.grid(row=0, column=0, pady=2, sticky=W)\n",
    "label1.place(x=420,y=180)\n",
    "label2.place(x=565,y=180)\n",
    "label_result.place(x=428,y=210)\n",
    "label_proba.place(x=560,y=210)\n",
    "button_clear.place(x=230,y=430)\n",
    "button_upl.place(x=450,y=430)\n",
    "classify_btn.place(x=10,y=430)\n",
    "#make window interactive\n",
    "window.mainloop()"
   ]
  }
 ],
 "metadata": {
  "accelerator": "GPU",
  "colab": {
   "collapsed_sections": [],
   "name": "MLP_Digit_recognation.ipynb",
   "provenance": []
  },
  "kernelspec": {
   "display_name": "Python 3 (ipykernel)",
   "language": "python",
   "name": "python3"
  },
  "language_info": {
   "codemirror_mode": {
    "name": "ipython",
    "version": 3
   },
   "file_extension": ".py",
   "mimetype": "text/x-python",
   "name": "python",
   "nbconvert_exporter": "python",
   "pygments_lexer": "ipython3",
   "version": "3.9.7"
  }
 },
 "nbformat": 4,
 "nbformat_minor": 1
}
